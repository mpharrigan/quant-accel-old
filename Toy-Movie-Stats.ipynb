{
 "metadata": {
  "name": ""
 },
 "nbformat": 3,
 "nbformat_minor": 0,
 "worksheets": [
  {
   "cells": [
    {
     "cell_type": "code",
     "collapsed": false,
     "input": [
      "cd ~/projects/toy-movie-local/"
     ],
     "language": "python",
     "metadata": {},
     "outputs": [
      {
       "output_type": "stream",
       "stream": "stdout",
       "text": [
        "/home/harrigan/projects/toy-movie-local\n"
       ]
      }
     ],
     "prompt_number": 1
    },
    {
     "cell_type": "code",
     "collapsed": false,
     "input": [
      "%load_ext autoreload\n",
      "%autoreload 2\n",
      "%matplotlib inline"
     ],
     "language": "python",
     "metadata": {},
     "outputs": [],
     "prompt_number": 2
    },
    {
     "cell_type": "code",
     "collapsed": false,
     "input": [
      "from msmaccelerator.core.markovstatemodel import MarkovStateModel\n",
      "import mdtraj\n",
      "import os\n",
      "from fuzzy import classic, analysis, get_data\n",
      "from matplotlib import pyplot as pp\n",
      "import numpy as np"
     ],
     "language": "python",
     "metadata": {},
     "outputs": [],
     "prompt_number": 3
    },
    {
     "cell_type": "code",
     "collapsed": false,
     "input": [
      "from toymovie import toy"
     ],
     "language": "python",
     "metadata": {},
     "outputs": [],
     "prompt_number": 4
    },
    {
     "cell_type": "markdown",
     "metadata": {},
     "source": [
      "Finding lag-times\n",
      "-------\n",
      "In this notebook, we examine implied timescales vs lagtime to pick an appropriate lag time to use for subsequent analysis. For the gold standard, we stride over loading by 10, so a lag time of 6 corresponds to a lag time of 60 for the other simulations."
     ]
    },
    {
     "cell_type": "code",
     "collapsed": false,
     "input": [
      "gold = toy.Gold('quant/gold-run/gold/')\n",
      "gold_traj_list = gold.load_trajs(load_stride=10, load_up_to_this_percent=1.0)\n",
      "gold_clusterer = gold.do_clustering(gold_traj_list)\n",
      "gold.get_implied_timescales_vs_lt(gold_clusterer, (1,10,1))"
     ],
     "language": "python",
     "metadata": {},
     "outputs": [
      {
       "output_type": "stream",
       "stream": "stdout",
       "text": [
        "Ending at index 1,000,000\n",
        "7 trajs x 100,000 length = 700,000 frames\n",
        "Clustered data into 55 clusters"
       ]
      },
      {
       "output_type": "stream",
       "stream": "stdout",
       "text": [
        "\n",
        "13:04:40 - Selected component 0 with population 1.000000\n"
       ]
      },
      {
       "output_type": "stream",
       "stream": "stdout",
       "text": [
        "13:04:47 - BFGS likelihood maximization terminated after 2595 function calls.  Initial and final log likelihoods: -856681.771002, -856681.057353.\n"
       ]
      },
      {
       "output_type": "stream",
       "stream": "stdout",
       "text": [
        "13:04:47 - Abnormal termination of BFGS likelihood maximization.  Error code 2\n"
       ]
      },
      {
       "output_type": "stream",
       "stream": "stdout",
       "text": [
        "Calculated implied timescale at lag time 1\n",
        "Calculated implied timescale at lag time 1\n",
        "13:04:47 - Selected component 0 with population 1.000000\n"
       ]
      },
      {
       "output_type": "stream",
       "stream": "stdout",
       "text": [
        "13:04:52 - BFGS likelihood maximization terminated after 1978 function calls.  Initial and final log likelihoods: -970118.602357, -970117.114704.\n"
       ]
      },
      {
       "output_type": "stream",
       "stream": "stdout",
       "text": [
        "Calculated implied timescale at lag time 2\n",
        "Calculated implied timescale at lag time 2\n",
        "13:04:52 - Selected component 0 with population 1.000000\n"
       ]
      },
      {
       "output_type": "stream",
       "stream": "stdout",
       "text": [
        "13:04:58 - BFGS likelihood maximization terminated after 2499 function calls.  Initial and final log likelihoods: -1033030.739852, -1033028.705496.\n"
       ]
      },
      {
       "output_type": "stream",
       "stream": "stdout",
       "text": [
        "Calculated implied timescale at lag time 3\n",
        "Calculated implied timescale at lag time 3\n",
        "13:04:58 - Selected component 0 with population 1.000000\n"
       ]
      },
      {
       "output_type": "stream",
       "stream": "stdout",
       "text": [
        "13:05:02 - BFGS likelihood maximization terminated after 1744 function calls.  Initial and final log likelihoods: -1073392.506035, -1073389.933350.\n"
       ]
      },
      {
       "output_type": "stream",
       "stream": "stdout",
       "text": [
        "Calculated implied timescale at lag time 4\n",
        "Calculated implied timescale at lag time 4\n",
        "13:05:03 - Selected component 0 with population 1.000000\n"
       ]
      },
      {
       "output_type": "stream",
       "stream": "stdout",
       "text": [
        "13:05:08 - BFGS likelihood maximization terminated after 2015 function calls.  Initial and final log likelihoods: -1100912.629354, -1100909.452025.\n"
       ]
      },
      {
       "output_type": "stream",
       "stream": "stdout",
       "text": [
        "Calculated implied timescale at lag time 5\n",
        "Calculated implied timescale at lag time 5\n",
        "13:05:08 - Selected component 0 with population 1.000000\n"
       ]
      },
      {
       "output_type": "stream",
       "stream": "stdout",
       "text": [
        "13:05:13 - BFGS likelihood maximization terminated after 1972 function calls.  Initial and final log likelihoods: -1120827.558786, -1120823.899996.\n"
       ]
      },
      {
       "output_type": "stream",
       "stream": "stdout",
       "text": [
        "Calculated implied timescale at lag time 6\n",
        "Calculated implied timescale at lag time 6\n",
        "13:05:13 - Selected component 0 with population 1.000000\n"
       ]
      },
      {
       "output_type": "stream",
       "stream": "stdout",
       "text": [
        "13:05:17 - BFGS likelihood maximization terminated after 1569 function calls.  Initial and final log likelihoods: -1135336.200879, -1135332.049174.\n"
       ]
      },
      {
       "output_type": "stream",
       "stream": "stdout",
       "text": [
        "Calculated implied timescale at lag time 7\n",
        "Calculated implied timescale at lag time 7\n",
        "13:05:17 - Selected component 0 with population 1.000000\n"
       ]
      },
      {
       "output_type": "stream",
       "stream": "stdout",
       "text": [
        "13:05:21 - BFGS likelihood maximization terminated after 1798 function calls.  Initial and final log likelihoods: -1146526.394289, -1146522.154807.\n"
       ]
      },
      {
       "output_type": "stream",
       "stream": "stdout",
       "text": [
        "Calculated implied timescale at lag time 8\n",
        "Calculated implied timescale at lag time 8\n",
        "13:05:22 - Selected component 0 with population 1.000000\n"
       ]
      },
      {
       "output_type": "stream",
       "stream": "stdout",
       "text": [
        "13:05:26 - BFGS likelihood maximization terminated after 1554 function calls.  Initial and final log likelihoods: -1154816.206857, -1154811.748726.\n"
       ]
      },
      {
       "output_type": "stream",
       "stream": "stdout",
       "text": [
        "Calculated implied timescale at lag time 9\n",
        "Calculated implied timescale at lag time 9\n"
       ]
      }
     ],
     "prompt_number": 49
    },
    {
     "cell_type": "code",
     "collapsed": false,
     "input": [
      "gold.plot_implied_timescales_vs_lt()"
     ],
     "language": "python",
     "metadata": {},
     "outputs": [
      {
       "metadata": {},
       "output_type": "display_data",
       "png": "[encoded data removed]",
       "text": [
        "<matplotlib.figure.Figure at 0x4cafa90>"
       ]
      }
     ],
     "prompt_number": 52
    },
    {
     "cell_type": "code",
     "collapsed": false,
     "input": [
      "gold.good_lag_time = 6\n",
      "gold.gold_its = gold.get_implied_timescales(gold_clusterer, lag_time=gold.good_lag_time, n_timescales=1)\n",
      "print \"Gold ITs:\", gold.gold_its"
     ],
     "language": "python",
     "metadata": {},
     "outputs": [
      {
       "output_type": "stream",
       "stream": "stdout",
       "text": [
        "13:10:19 - Selected component 0 with population 1.000000\n"
       ]
      },
      {
       "output_type": "stream",
       "stream": "stdout",
       "text": [
        "13:10:24 - BFGS likelihood maximization terminated after 1972 function calls.  Initial and final log likelihoods: -1120827.558786, -1120823.899996.\n"
       ]
      },
      {
       "output_type": "stream",
       "stream": "stdout",
       "text": [
        "Calculated implied timescale at lag time 6\n",
        "Gold ITs: [ 17654.88479876]\n"
       ]
      }
     ],
     "prompt_number": 53
    },
    {
     "cell_type": "markdown",
     "metadata": {},
     "source": [
      "Find accuracy vs wall simulation time for length per traj\n",
      "-------"
     ]
    },
    {
     "cell_type": "code",
     "collapsed": false,
     "input": [
      "lpt_dirs = os.listdir('quant/lpt-run/')\n",
      "lpt_dirs = [l for l in lpt_dirs if l.startswith('lpt')]\n",
      "print lpt_dirs"
     ],
     "language": "python",
     "metadata": {},
     "outputs": [
      {
       "output_type": "stream",
       "stream": "stdout",
       "text": [
        "['lpt-1000-30', 'lpt-run.pbs', 'lpt-6000-5', 'lpt-run-fix.pbs', 'lpt-30000-1', 'lpt-2000-15', 'lpt-500-60', 'lpt-250-120']\n"
       ]
      }
     ],
     "prompt_number": 22
    },
    {
     "cell_type": "code",
     "collapsed": false,
     "input": [
      "lpt = toy.LPT('quant/lpt-run/lpt-1000-30/')\n",
      "lpt.get_models()\n",
      "lpt_traj_list = lpt.load_trajs(load_stride=1, load_up_to_this_percent=1.0)\n",
      "lpt_clusterer = lpt.do_clustering(lpt_traj_list)\n",
      "lpt.get_implied_timescales_vs_lt(lpt_clusterer, (1,80,5))"
     ],
     "language": "python",
     "metadata": {},
     "outputs": [
      {
       "output_type": "stream",
       "stream": "stdout",
       "text": [
        "Using trajectories after round 30\n",
        "210 trajs x 100 length = 21,000 frames"
       ]
      },
      {
       "output_type": "stream",
       "stream": "stdout",
       "text": [
        "\n",
        "Clustered data into 47 clusters"
       ]
      },
      {
       "output_type": "stream",
       "stream": "stdout",
       "text": [
        "\n",
        "12:58:07 - Selected component 1 with population 0.999567\n"
       ]
      },
      {
       "output_type": "stream",
       "stream": "stdout",
       "text": [
        "12:58:08 - BFGS likelihood maximization terminated after 235 function calls.  Initial and final log likelihoods: -14158.459244, -14149.483664.\n"
       ]
      },
      {
       "output_type": "stream",
       "stream": "stdout",
       "text": [
        "Calculated implied timescale at lag time 1\n",
        "Calculated implied timescale at lag time 1\n",
        "12:58:08 - Selected component 1 with population 0.999544\n"
       ]
      },
      {
       "output_type": "stream",
       "stream": "stdout",
       "text": [
        "12:58:09 - BFGS likelihood maximization terminated after 292 function calls.  Initial and final log likelihoods: -24048.441879, -23925.814218.\n"
       ]
      },
      {
       "output_type": "stream",
       "stream": "stdout",
       "text": [
        "12:58:09 - Abnormal termination of BFGS likelihood maximization.  Error code 2\n"
       ]
      },
      {
       "output_type": "stream",
       "stream": "stdout",
       "text": [
        "Calculated implied timescale at lag time 6\n",
        "Calculated implied timescale at lag time 6\n",
        "12:58:09 - Selected component 1 with population 0.999518\n"
       ]
      },
      {
       "output_type": "stream",
       "stream": "stdout",
       "text": [
        "12:58:10 - BFGS likelihood maximization terminated after 357 function calls.  Initial and final log likelihoods: -26907.495498, -26654.762400.\n"
       ]
      },
      {
       "output_type": "stream",
       "stream": "stdout",
       "text": [
        "12:58:10 - Abnormal termination of BFGS likelihood maximization.  Error code 2\n"
       ]
      },
      {
       "output_type": "stream",
       "stream": "stdout",
       "text": [
        "Calculated implied timescale at lag time 11\n",
        "Calculated implied timescale at lag time 11\n",
        "12:58:10 - Selected component 1 with population 0.999490\n"
       ]
      },
      {
       "output_type": "stream",
       "stream": "stdout",
       "text": [
        "12:58:10 - BFGS likelihood maximization terminated after 256 function calls.  Initial and final log likelihoods: -27725.383252, -27327.319179.\n"
       ]
      },
      {
       "output_type": "stream",
       "stream": "stdout",
       "text": [
        "12:58:10 - Abnormal termination of BFGS likelihood maximization.  Error code 2\n"
       ]
      },
      {
       "output_type": "stream",
       "stream": "stdout",
       "text": [
        "Calculated implied timescale at lag time 16\n",
        "Calculated implied timescale at lag time 16\n",
        "12:58:10 - Selected component 1 with population 0.999458\n"
       ]
      },
      {
       "output_type": "stream",
       "stream": "stdout",
       "text": [
        "12:58:11 - BFGS likelihood maximization terminated after 335 function calls.  Initial and final log likelihoods: -27656.431840, -27129.887230.\n"
       ]
      },
      {
       "output_type": "stream",
       "stream": "stdout",
       "text": [
        "Calculated implied timescale at lag time 21\n",
        "Calculated implied timescale at lag time 21\n",
        "12:58:11 - Selected component 1 with population 0.999421\n"
       ]
      },
      {
       "output_type": "stream",
       "stream": "stdout",
       "text": [
        "12:58:12 - BFGS likelihood maximization terminated after 293 function calls.  Initial and final log likelihoods: -27083.742964, -26439.237926.\n"
       ]
      },
      {
       "output_type": "stream",
       "stream": "stdout",
       "text": [
        "Calculated implied timescale at lag time 26\n",
        "Calculated implied timescale at lag time 26\n",
        "12:58:12 - Selected component 2 with population 0.996342\n"
       ]
      },
      {
       "output_type": "stream",
       "stream": "stdout",
       "text": [
        "12:58:13 - BFGS likelihood maximization terminated after 374 function calls.  Initial and final log likelihoods: -25995.966518, -25247.546284.\n"
       ]
      },
      {
       "output_type": "stream",
       "stream": "stdout",
       "text": [
        "12:58:13 - Abnormal termination of BFGS likelihood maximization.  Error code 2\n"
       ]
      },
      {
       "output_type": "stream",
       "stream": "stdout",
       "text": [
        "Calculated implied timescale at lag time 31\n",
        "Calculated implied timescale at lag time 31\n",
        "12:58:13 - Selected component 2 with population 0.996131\n"
       ]
      },
      {
       "output_type": "stream",
       "stream": "stdout",
       "text": [
        "12:58:14 - BFGS likelihood maximization terminated after 227 function calls.  Initial and final log likelihoods: -24805.036455, -23947.711201.\n"
       ]
      },
      {
       "output_type": "stream",
       "stream": "stdout",
       "text": [
        "Calculated implied timescale at lag time 36\n",
        "Calculated implied timescale at lag time 36\n",
        "12:58:14 - Selected component 3 with population 0.967393\n"
       ]
      },
      {
       "output_type": "stream",
       "stream": "stdout",
       "text": [
        "12:58:14 - BFGS likelihood maximization terminated after 248 function calls.  Initial and final log likelihoods: -22869.271707, -21967.571513.\n"
       ]
      },
      {
       "output_type": "stream",
       "stream": "stdout",
       "text": [
        "12:58:14 - Abnormal termination of BFGS likelihood maximization.  Error code 2\n"
       ]
      },
      {
       "output_type": "stream",
       "stream": "stdout",
       "text": [
        "Calculated implied timescale at lag time 41\n",
        "Calculated implied timescale at lag time 41\n",
        "12:58:14 - Selected component 3 with population 0.967284\n"
       ]
      },
      {
       "output_type": "stream",
       "stream": "stdout",
       "text": [
        "12:58:15 - BFGS likelihood maximization terminated after 226 function calls.  Initial and final log likelihoods: -21379.579892, -20456.220788.\n"
       ]
      },
      {
       "output_type": "stream",
       "stream": "stdout",
       "text": [
        "Calculated implied timescale at lag time 46\n",
        "Calculated implied timescale at lag time 46\n",
        "12:58:15 - Selected component 3 with population 0.966958\n"
       ]
      },
      {
       "output_type": "stream",
       "stream": "stdout",
       "text": [
        "12:58:16 - BFGS likelihood maximization terminated after 274 function calls.  Initial and final log likelihoods: -19646.848076, -18746.191061.\n"
       ]
      },
      {
       "output_type": "stream",
       "stream": "stdout",
       "text": [
        "12:58:16 - Abnormal termination of BFGS likelihood maximization.  Error code 2\n"
       ]
      },
      {
       "output_type": "stream",
       "stream": "stdout",
       "text": [
        "Calculated implied timescale at lag time 51\n",
        "Calculated implied timescale at lag time 51\n",
        "12:58:16 - Selected component 3 with population 0.966667\n"
       ]
      },
      {
       "output_type": "stream",
       "stream": "stdout",
       "text": [
        "12:58:16 - BFGS likelihood maximization terminated after 261 function calls.  Initial and final log likelihoods: -17856.581244, -16944.196369.\n"
       ]
      },
      {
       "output_type": "stream",
       "stream": "stdout",
       "text": [
        "Calculated implied timescale at lag time 56\n",
        "Calculated implied timescale at lag time 56\n",
        "12:58:16 - Selected component 3 with population 0.966667\n"
       ]
      },
      {
       "output_type": "stream",
       "stream": "stdout",
       "text": [
        "12:58:17 - BFGS likelihood maximization terminated after 203 function calls.  Initial and final log likelihoods: -15325.917240, -14543.456059.\n"
       ]
      },
      {
       "output_type": "stream",
       "stream": "stdout",
       "text": [
        "Calculated implied timescale at lag time 61\n",
        "Calculated implied timescale at lag time 61\n",
        "12:58:17 - Selected component 5 with population 0.964286\n"
       ]
      },
      {
       "output_type": "stream",
       "stream": "stdout",
       "text": [
        "12:58:17 - BFGS likelihood maximization terminated after 165 function calls.  Initial and final log likelihoods: -13391.042826, -12660.922888.\n"
       ]
      },
      {
       "output_type": "stream",
       "stream": "stdout",
       "text": [
        "Calculated implied timescale at lag time 66\n",
        "Calculated implied timescale at lag time 66\n",
        "12:58:17 - Selected component 5 with population 0.964532\n"
       ]
      },
      {
       "output_type": "stream",
       "stream": "stdout",
       "text": [
        "12:58:18 - BFGS likelihood maximization terminated after 165 function calls.  Initial and final log likelihoods: -11378.125064, -10708.628956.\n"
       ]
      },
      {
       "output_type": "stream",
       "stream": "stdout",
       "text": [
        "Calculated implied timescale at lag time 71\n",
        "Calculated implied timescale at lag time 71\n",
        "12:58:18 - Selected component 5 with population 0.965079\n"
       ]
      },
      {
       "output_type": "stream",
       "stream": "stdout",
       "text": [
        "12:58:18 - BFGS likelihood maximization terminated after 149 function calls.  Initial and final log likelihoods: -9374.635818, -8790.466543.\n"
       ]
      },
      {
       "output_type": "stream",
       "stream": "stdout",
       "text": [
        "Calculated implied timescale at lag time 76\n",
        "Calculated implied timescale at lag time 76\n"
       ]
      }
     ],
     "prompt_number": 46
    },
    {
     "cell_type": "code",
     "collapsed": false,
     "input": [
      "lpt.plot_implied_timescales_vs_lt()"
     ],
     "language": "python",
     "metadata": {},
     "outputs": [
      {
       "metadata": {},
       "output_type": "display_data",
       "png": "[encoded data removed]",
       "text": [
        "<matplotlib.figure.Figure at 0x4d483d0>"
       ]
      }
     ],
     "prompt_number": 48
    },
    {
     "cell_type": "code",
     "collapsed": false,
     "input": [
      "lpt.good_lag_time = 60\n",
      "lpt.gold_its = [gold_it]\n",
      "lpt.get_models()"
     ],
     "language": "python",
     "metadata": {},
     "outputs": []
    },
    {
     "cell_type": "code",
     "collapsed": false,
     "input": [],
     "language": "python",
     "metadata": {},
     "outputs": []
    }
   ],
   "metadata": {}
  }
 ]
}